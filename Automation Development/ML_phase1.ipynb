{
 "cells": [
  {
   "cell_type": "code",
   "execution_count": 1,
   "metadata": {},
   "outputs": [],
   "source": [
    "import tensorflow as tf\n",
    "import numpy as np\n",
    "import pandas as pd\n",
    "import matplotlib as plt\n",
    "from sklearn.preprocessing import StandardScaler\n",
    "import io"
   ]
  },
  {
   "cell_type": "markdown",
   "metadata": {},
   "source": [
    "import dataset"
   ]
  },
  {
   "cell_type": "code",
   "execution_count": null,
   "metadata": {},
   "outputs": [],
   "source": [
    "def read_bin()\n"
   ]
  },
  {
   "cell_type": "markdown",
   "metadata": {},
   "source": [
    "restructure the dataset as needed"
   ]
  },
  {
   "cell_type": "markdown",
   "metadata": {},
   "source": [
    "Set the target variable"
   ]
  },
  {
   "cell_type": "code",
   "execution_count": null,
   "metadata": {},
   "outputs": [],
   "source": [
    "data_to_use=dataset[\"ColumnName\"].values"
   ]
  },
  {
   "cell_type": "markdown",
   "metadata": {},
   "source": [
    "Data preprocessing\n",
    "* do we need to use this?? *"
   ]
  },
  {
   "cell_type": "code",
   "execution_count": null,
   "metadata": {},
   "outputs": [],
   "source": [
    "from sklearn.preprocessing import StandardScaler\n",
    "scaler = StandardScaler()\n",
    "scaled_data = scaler.fit_transform(data_to_use.reshape(-1,1))"
   ]
  },
  {
   "cell_type": "markdown",
   "metadata": {},
   "source": [
    "plot the data"
   ]
  },
  {
   "cell_type": "code",
   "execution_count": 2,
   "metadata": {},
   "outputs": [
    {
     "ename": "SyntaxError",
     "evalue": "invalid syntax (3442703635.py, line 1)",
     "output_type": "error",
     "traceback": [
      "\u001b[1;36m  Cell \u001b[1;32mIn [2], line 1\u001b[1;36m\u001b[0m\n\u001b[1;33m    plt.figure(figsize = (12,7), frameon=False, facecolor=)\u001b[0m\n\u001b[1;37m                                                          ^\u001b[0m\n\u001b[1;31mSyntaxError\u001b[0m\u001b[1;31m:\u001b[0m invalid syntax\n"
     ]
    }
   ],
   "source": [
    "plt.figure(figsize = (12,7), frameon=False, facecolor=\"brown\", edgecolor = \"blue\")\n",
    "plt.title(\"PFFP accelerometer readings\")\n",
    "plt.xlabel(\"time\")\n",
    "plt.ylabel(\"Deceleration\")\n",
    "plt.plot(scaled_data, label=\"Deceleration\")\n",
    "plt.legend\n",
    "plt.show()"
   ]
  },
  {
   "cell_type": "code",
   "execution_count": null,
   "metadata": {},
   "outputs": [],
   "source": [
    "def window_data(data, window_size)\n",
    "    X = []\n",
    "    Y = []\n",
    "\n",
    "    i = 0\n",
    "    while(i+window_size)<=len(data)-1:\n",
    "        X.append(data[i:i+window_size])\n",
    "        Y.append(data[i+window_size])\n",
    "\n",
    "        i += 1\n",
    "    assert len(X) == len(Y)\n",
    "    return X, Y\n",
    "\n",
    "#windowing the data with window_data function\n",
    "X, Y = window_data(scaled_data, 7)"
   ]
  },
  {
   "cell_type": "markdown",
   "metadata": {},
   "source": [
    "Training and testing the data"
   ]
  },
  {
   "cell_type": "code",
   "execution_count": 3,
   "metadata": {},
   "outputs": [
    {
     "ename": "NameError",
     "evalue": "name 'X' is not defined",
     "output_type": "error",
     "traceback": [
      "\u001b[1;31m---------------------------------------------------------------------------\u001b[0m",
      "\u001b[1;31mNameError\u001b[0m                                 Traceback (most recent call last)",
      "\u001b[1;32mUntitled-1.ipynb Cell 12\u001b[0m line \u001b[0;36m3\n\u001b[0;32m      <a href='vscode-notebook-cell:Untitled-1.ipynb?jupyter-notebook#X16sdW50aXRsZWQ%3D?line=0'>1</a>\u001b[0m \u001b[39m#split the data into training and test set\u001b[39;00m\n\u001b[1;32m----> <a href='vscode-notebook-cell:Untitled-1.ipynb?jupyter-notebook#X16sdW50aXRsZWQ%3D?line=2'>3</a>\u001b[0m X_train \u001b[39m=\u001b[39m np\u001b[39m.\u001b[39marray(X[:\u001b[39m100\u001b[39m]) \u001b[39m#chose end value to be 80% of data\u001b[39;00m\n\u001b[0;32m      <a href='vscode-notebook-cell:Untitled-1.ipynb?jupyter-notebook#X16sdW50aXRsZWQ%3D?line=3'>4</a>\u001b[0m Y_train \u001b[39m=\u001b[39m np\u001b[39m.\u001b[39marray(Y[:\u001b[39m100\u001b[39m])\n\u001b[0;32m      <a href='vscode-notebook-cell:Untitled-1.ipynb?jupyter-notebook#X16sdW50aXRsZWQ%3D?line=5'>6</a>\u001b[0m X_test \u001b[39m=\u001b[39m np\u001b[39m.\u001b[39marray(X[\u001b[39m100\u001b[39m:])\n",
      "\u001b[1;31mNameError\u001b[0m: name 'X' is not defined"
     ]
    }
   ],
   "source": [
    "#split the data into training and test set\n",
    "\n",
    "X_train = np.array(X[:100]) #chose end value to be 80% of data\n",
    "Y_train = np.array(Y[:100])\n",
    "\n",
    "X_test = np.array(X[100:])\n",
    "Y_test = np.array(Y[100:])\n",
    "\n",
    "print(\"X_train size: {}\".format(X_train.shape))\n",
    "print(\"Y_train size: {}\".format(Y_train.shape))\n",
    "print(\"X_test size: {}\".format(X_test.shape))\n",
    "print(\"Y_test size: {}\".format(Y_test.shape))"
   ]
  },
  {
   "cell_type": "markdown",
   "metadata": {},
   "source": [
    "Define Hyperparameters to be used in the network"
   ]
  },
  {
   "cell_type": "code",
   "execution_count": null,
   "metadata": {},
   "outputs": [],
   "source": [
    "batch_size = 7\n",
    "window_size = 7\n",
    "hidden_layer = 256\n",
    "clip_margin = 4\n",
    "learning_rate = .001\n",
    "epochs = 200"
   ]
  },
  {
   "cell_type": "markdown",
   "metadata": {},
   "source": [
    "Placeholders"
   ]
  },
  {
   "cell_type": "code",
   "execution_count": null,
   "metadata": {},
   "outputs": [],
   "source": [
    "inputs = tf.placeholder(tf.float32, [batch_size, window_size, 1])\n",
    "targets = tf.placeholder(tf.float32), [batch_size, 1]"
   ]
  },
  {
   "cell_type": "markdown",
   "metadata": {},
   "source": [
    "LSTM Weights"
   ]
  },
  {
   "cell_type": "code",
   "execution_count": null,
   "metadata": {},
   "outputs": [],
   "source": [
    "#input gate\n",
    "weights_input_gate = tf.Variable(tf.truncated_normal(1, hidden_layer), stddev = 0.05)\n",
    "weights_input_hidden = tf.Variable(tf.truncated_normal(hidden_layer, hidden_layer), stddev = 0.05)\n",
    "bias_input = tf.Variable(tf.zeros[hidden_layer])\n",
    "\n",
    "#forget gate\n",
    "weights_forget_gate = tf.Variable(tf.truncated_normal(1, hidden_layer), stddev = 0.05)\n",
    "weights_forget_hidden = tf.Variable(tf.truncated_normal(hidden_layer, hidden_layer), stddev = 0.05)\n",
    "bias_forget = tf.Variable(tf.zeros[hidden_layer])\n",
    "\n",
    "#output gate\n",
    "weights_output_gate = tf.Variable(tf.truncated_normal(1, hidden_layer), stddev = 0.05)\n",
    "weights_output_hidden = tf.Variable(tf.truncated_normal(hidden_layer, hidden_layer), stddev = 0.05)\n",
    "bias_output = tf.Variable(tf.zeros[hidden_layer])\n",
    "\n",
    "#memory cell\n",
    "weights_memory_cell = tf.Variable(tf.truncated_normal(1, hidden_layer), stddev = 0.05)\n",
    "weights_memory_cell_hidden = tf.Variable(tf.truncated_normal(hidden_layer, hidden_layer), stddev = 0.05)\n",
    "bias_memory_cell = tf.Variable(tf.zeros[hidden_layer])\n",
    "\n",
    "#output layer weights\n",
    "weights_output = tf.Variable(tf.truncated_normal(1, hidden_layer), stddev = 0.05)\n",
    "bias_output_layer = tf.Variable(tf.zeros[1])\n",
    "\n",
    "#function to compute gate states\n",
    "\n",
    "def LSTM_cell(input, output, state):\n",
    "    input_gate = tf.sigmoid(tf.matmul(input, weights_input_gate) + tf.matmul(output, weights_input_hidden)+ bias_input)\n",
    "    forget_gate = tf.sigmoid(tf.matmul(input, weights_forget_gate) + tf.matmul(output, weights_forget_hidden)+ bias_forget)\n",
    "    output_gate = tf.sigmoid(tf.matmul(input, weights_output_gate) + tf.matmul(output, weights_output_hidden)+ bias_output)\n",
    "    memory_cell = tf.tanh(tf.matmul(input, weights_memory_cell) + tf.matmul(output, weights_memory_cell_hidden)+ bias_memory_cell)\n",
    "    state = state * forget_gate + input_gate + memory_cell\n",
    "    output = output_gate *tf.tanh(state)\n",
    "    return state, output\n"
   ]
  },
  {
   "cell_type": "markdown",
   "metadata": {},
   "source": [
    "Network Loop"
   ]
  },
  {
   "cell_type": "code",
   "execution_count": null,
   "metadata": {},
   "outputs": [],
   "source": [
    "outputs = []\n",
    "\n",
    "for i in range(batch_size):\n",
    "    batch_state = np.zeros([1, hidden_layer], dtype = np.float32)\n",
    "    batch_output = np.zeros([1, hidden_layer], dtype = np.float32)\n",
    "\n",
    "    for ii in range(window_size):\n",
    "        batch_state, batch_output = LSTM_cell(tf.reshape(inputs[i][ii], (-1, 1)), batch_state, batch_output)\n",
    "\n",
    "    outputs.append(tf.matmul(batch_output, weights_output)+ bias_output_layer)\n",
    "outputs"
   ]
  },
  {
   "cell_type": "markdown",
   "metadata": {},
   "source": [
    "Define the loss"
   ]
  },
  {
   "cell_type": "code",
   "execution_count": null,
   "metadata": {},
   "outputs": [],
   "source": [
    "losses = []\n",
    "\n",
    "for i in range(len(outputs)):\n",
    "    losses.append(tf.losses.mean_squared_error(tf.reshape(targets[i], (-1, 1)), outputs[i]))\n",
    "\n",
    "loss = tf.reduce_mean(losses)\n"
   ]
  },
  {
   "cell_type": "markdown",
   "metadata": {},
   "source": [
    "Training the Network"
   ]
  },
  {
   "cell_type": "code",
   "execution_count": null,
   "metadata": {},
   "outputs": [],
   "source": [
    "session = tf.Session()\n",
    "session.run(tf.global_variables_initializer())\n",
    "for i in range(epochs):\n",
    "    trained_scores = []\n",
    "    ii = 0\n",
    "    epoch_loss = []\n",
    "    while(ii+batch_size) <= len(X_train):\n",
    "        X_batch = X_train[ii:ii+batch_size]\n",
    "        Y_batch = Y_train[ii:ii+batch_size]\n",
    "\n",
    "        o, c, _ = session.run([outputs, loss, trained_optimizer], feed_dict={inputs:X_batch, targets:Y_batch})\n",
    "\n",
    "        epoch_loss.append(c)\n",
    "        trained_scores.append(o)\n",
    "        ii += batch_size\n",
    "    if (i % 30) == 0:\n",
    "        print(\"Epoch {}/{}\".format(i, epochs), ' Current loss: {}'.format(np.mean(epoch_loss)))"
   ]
  },
  {
   "cell_type": "markdown",
   "metadata": {},
   "source": [
    "Plot the predictions"
   ]
  },
  {
   "cell_type": "code",
   "execution_count": null,
   "metadata": {},
   "outputs": [],
   "source": [
    "plt.figure(figsize=(16, 7))\n",
    "plt.title(\"Deceleration\")\n",
    "plt.xlabel(\"time\")\n",
    "plt.ylabel(\"Deceleration\")\n",
    "plt.plot(scaled_data, label = \"Original Data\")\n",
    "plt.plot(sup, label = \"Training Data\")\n",
    "plt.plot(test_results, label = \"Testing data\")\n",
    "plt.legend()\n",
    "plt.show\n"
   ]
  }
 ],
 "metadata": {
  "kernelspec": {
   "display_name": "Python 3",
   "language": "python",
   "name": "python3"
  },
  "language_info": {
   "codemirror_mode": {
    "name": "ipython",
    "version": 3
   },
   "file_extension": ".py",
   "mimetype": "text/x-python",
   "name": "python",
   "nbconvert_exporter": "python",
   "pygments_lexer": "ipython3",
   "version": "3.10.6"
  },
  "orig_nbformat": 4
 },
 "nbformat": 4,
 "nbformat_minor": 2
}
